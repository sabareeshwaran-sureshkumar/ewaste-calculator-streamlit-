{
  "cells": [
    {
      "cell_type": "code",
      "execution_count": 1,
      "metadata": {
        "colab": {
          "base_uri": "https://localhost:8080/"
        },
        "id": "S9xGLBl060eC",
        "outputId": "000450df-7052-4aab-eaa6-b16491a7cbb9"
      },
      "outputs": [
        {
          "name": "stdout",
          "output_type": "stream",
          "text": [
            "Reward Model RMSE: 23.19353678015502\n",
            "Recyclable Model RMSE: 0.5268334651481433\n"
          ]
        }
      ],
      "source": [
        "import pandas as pd\n",
        "import numpy as np\n",
        "from sklearn.model_selection import train_test_split\n",
        "from sklearn.preprocessing import StandardScaler, LabelEncoder\n",
        "from sklearn.ensemble import RandomForestRegressor\n",
        "from sklearn.metrics import mean_squared_error\n",
        "import joblib\n",
        "\n",
        "# Load the synthetic dataset (without Water Saved)\n",
        "df = pd.read_csv(\"synthetic_e_waste_data_with_all_columns.csv\")\n",
        "\n",
        "# Preprocessing\n",
        "le_device = LabelEncoder()\n",
        "df['Device'] = le_device.fit_transform(df['Device'])\n",
        "\n",
        "# Features and target variables\n",
        "X = df[['Device', 'CPU', 'Memory', 'Battery', 'Display', 'Keyboard', 'Plastics', 'Metals']]\n",
        "y_reward = df['Phase Reward']  # Target for reward prediction\n",
        "y_recyclable = df['Recyclable Score']  # Target for recyclability prediction\n",
        "\n",
        "# Train-test split\n",
        "X_train, X_test, y_train_reward, y_test_reward = train_test_split(X, y_reward, test_size=0.2, random_state=42)\n",
        "X_train_recyclable, X_test_recyclable, y_train_recyclable, y_test_recyclable = train_test_split(X, y_recyclable, test_size=0.2, random_state=42)\n",
        "\n",
        "# Feature scaling\n",
        "scaler = StandardScaler()\n",
        "X_train_scaled = scaler.fit_transform(X_train)\n",
        "X_test_scaled = scaler.transform(X_test)\n",
        "\n",
        "# Model for reward prediction\n",
        "reward_model = RandomForestRegressor(n_estimators=100, random_state=42)\n",
        "reward_model.fit(X_train_scaled, y_train_reward)\n",
        "\n",
        "# Model for recyclable score prediction\n",
        "recyclable_model = RandomForestRegressor(n_estimators=100, random_state=42)\n",
        "recyclable_model.fit(X_train_scaled, y_train_recyclable)\n",
        "\n",
        "# Save models and scaler\n",
        "joblib.dump(reward_model, 'reward_model.pkl')\n",
        "joblib.dump(recyclable_model, 'recyclable_model.pkl')\n",
        "joblib.dump(scaler, 'scaler.pkl')\n",
        "joblib.dump(le_device, 'le_device.pkl')\n",
        "\n",
        "# Evaluate\n",
        "y_pred_reward = reward_model.predict(X_test_scaled)\n",
        "reward_rmse = np.sqrt(mean_squared_error(y_test_reward, y_pred_reward))\n",
        "print(f\"Reward Model RMSE: {reward_rmse}\")\n",
        "\n",
        "y_pred_recyclable = recyclable_model.predict(X_test_scaled)\n",
        "recyclable_rmse = np.sqrt(mean_squared_error(y_test_recyclable, y_pred_recyclable))\n",
        "print(f\"Recyclable Model RMSE: {recyclable_rmse}\")\n"
      ]
    },
    {
      "cell_type": "code",
      "execution_count": null,
      "metadata": {
        "id": "r1RF2TjH6-C2"
      },
      "outputs": [],
      "source": []
    }
  ],
  "metadata": {
    "colab": {
      "provenance": []
    },
    "kernelspec": {
      "display_name": "Python 3",
      "name": "python3"
    },
    "language_info": {
      "codemirror_mode": {
        "name": "ipython",
        "version": 3
      },
      "file_extension": ".py",
      "mimetype": "text/x-python",
      "name": "python",
      "nbconvert_exporter": "python",
      "pygments_lexer": "ipython3",
      "version": "3.9.12"
    }
  },
  "nbformat": 4,
  "nbformat_minor": 0
}
